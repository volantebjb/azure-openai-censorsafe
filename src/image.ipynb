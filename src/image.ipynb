{
 "cells": [
  {
   "cell_type": "markdown",
   "metadata": {},
   "source": [
    "### Import libraries"
   ]
  },
  {
   "cell_type": "code",
   "execution_count": null,
   "metadata": {},
   "outputs": [],
   "source": [
    "import os\n",
    "import json\n",
    "from dotenv import load_dotenv\n",
    "from azure.ai.contentsafety import ContentSafetyClient\n",
    "from azure.core.credentials import AzureKeyCredential\n",
    "from azure.core.exceptions import HttpResponseError\n",
    "from azure.ai.contentsafety.models import AnalyzeImageOptions, ImageData\n",
    "from azure.ai.contentsafety.models import ImageCategory"
   ]
  },
  {
   "cell_type": "markdown",
   "metadata": {},
   "source": [
    "### Load credentials"
   ]
  },
  {
   "cell_type": "code",
   "execution_count": null,
   "metadata": {},
   "outputs": [],
   "source": [
    "load_dotenv()  \n",
    "endpoint_url=os.getenv[\"AZURE_CONTENTSAFETY_ENDPOINT\"]\n",
    "credential_key=AzureKeyCredential(os.getenv[\"AZURE_CONTENTSAFETY_KEY\"])"
   ]
  },
  {
   "cell_type": "markdown",
   "metadata": {},
   "source": [
    "### Create client"
   ]
  },
  {
   "cell_type": "code",
   "execution_count": null,
   "metadata": {},
   "outputs": [],
   "source": [
    "client = ContentSafetyClient(\n",
    "    endpoint=endpoint_url,\n",
    "    credential=credential_key\n",
    ")"
   ]
  },
  {
   "cell_type": "markdown",
   "metadata": {},
   "source": [
    "### Request for analyzation"
   ]
  },
  {
   "cell_type": "code",
   "execution_count": null,
   "metadata": {},
   "outputs": [],
   "source": [
    "image_path = os.path.abspath(os.path.join(os.path.abspath(\"__file__\"), \"..\", \"../img/image2.jpg\"))\n",
    "\n",
    "with open(image_path, \"rb\") as file:\n",
    "    img_request = AnalyzeImageOptions(image=ImageData(content=file.read()))"
   ]
  },
  {
   "cell_type": "markdown",
   "metadata": {},
   "source": [
    "### Analyze using API"
   ]
  },
  {
   "cell_type": "code",
   "execution_count": null,
   "metadata": {},
   "outputs": [],
   "source": [
    "# Analyze text\n",
    "try:\n",
    "    response = client.analyze_image(img_request)\n",
    "except HttpResponseError as e:\n",
    "    print(\"Analyze text failed.\")\n",
    "    if e.error:\n",
    "        print(f\"Error code: {e.error.code}\")\n",
    "        print(f\"Error message: {e.error.message}\")\n",
    "        raise\n",
    "    print(e)\n",
    "    raise"
   ]
  }
 ],
 "metadata": {
  "kernelspec": {
   "display_name": ".venv",
   "language": "python",
   "name": "python3"
  },
  "language_info": {
   "codemirror_mode": {
    "name": "ipython",
    "version": 3
   },
   "file_extension": ".py",
   "mimetype": "text/x-python",
   "name": "python",
   "nbconvert_exporter": "python",
   "pygments_lexer": "ipython3",
   "version": "3.10.0"
  }
 },
 "nbformat": 4,
 "nbformat_minor": 2
}
